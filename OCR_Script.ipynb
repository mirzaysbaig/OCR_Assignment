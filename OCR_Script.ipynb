{
 "cells": [
  {
   "cell_type": "code",
   "execution_count": 2,
   "id": "8543a6ba",
   "metadata": {
    "scrolled": false
   },
   "outputs": [
    {
     "name": "stdout",
     "output_type": "stream",
     "text": [
      "Requirement already satisfied: pytesseract in c:\\programdata\\anaconda3\\lib\\site-packages (0.3.13)\n",
      "Requirement already satisfied: packaging>=21.3 in c:\\programdata\\anaconda3\\lib\\site-packages (from pytesseract) (23.1)\n",
      "Requirement already satisfied: Pillow>=8.0.0 in c:\\programdata\\anaconda3\\lib\\site-packages (from pytesseract) (10.3.0)\n"
     ]
    }
   ],
   "source": [
    "!pip install pytesseract\n",
    "#installing pytesseract which vcan use external file tesseract for OCR \n",
    "#good in extracting printed images \n"
   ]
  },
  {
   "cell_type": "code",
   "execution_count": 1,
   "id": "1a2664ac",
   "metadata": {},
   "outputs": [
    {
     "name": "stdout",
     "output_type": "stream",
     "text": [
      "5.5.0.20241111\n"
     ]
    }
   ],
   "source": [
    "import pytesseract\n",
    "pytesseract.pytesseract.tesseract_cmd = r\"C:\\Program Files\\Tesseract-OCR\\tesseract.exe\"\n",
    "print(pytesseract.get_tesseract_version())\n",
    "#setting up the pytesseract location manually "
   ]
  },
  {
   "cell_type": "code",
   "execution_count": 2,
   "id": "5c0e97bf",
   "metadata": {
    "scrolled": true
   },
   "outputs": [
    {
     "name": "stdout",
     "output_type": "stream",
     "text": [
      "Collecting opencv-python\n",
      "  Obtaining dependency information for opencv-python from https://files.pythonhosted.org/packages/a4/7d/f1c30a92854540bf789e9cd5dde7ef49bbe63f855b85a2e6b3db8135c591/opencv_python-4.11.0.86-cp37-abi3-win_amd64.whl.metadata\n",
      "  Downloading opencv_python-4.11.0.86-cp37-abi3-win_amd64.whl.metadata (20 kB)\n",
      "Requirement already satisfied: numpy>=1.21.2 in c:\\programdata\\anaconda3\\lib\\site-packages (from opencv-python) (1.24.3)\n",
      "Downloading opencv_python-4.11.0.86-cp37-abi3-win_amd64.whl (39.5 MB)\n",
      "   ---------------------------------------- 0.0/39.5 MB ? eta -:--:--\n",
      "   ---------------------------------------- 0.0/39.5 MB 660.6 kB/s eta 0:01:00\n",
      "   ---------------------------------------- 0.1/39.5 MB 1.3 MB/s eta 0:00:30\n",
      "    --------------------------------------- 0.5/39.5 MB 4.1 MB/s eta 0:00:10\n",
      "    --------------------------------------- 0.8/39.5 MB 5.4 MB/s eta 0:00:08\n",
      "   - -------------------------------------- 1.2/39.5 MB 5.2 MB/s eta 0:00:08\n",
      "   - -------------------------------------- 1.8/39.5 MB 7.2 MB/s eta 0:00:06\n",
      "   -- ------------------------------------- 2.0/39.5 MB 7.5 MB/s eta 0:00:06\n",
      "   -- ------------------------------------- 3.0/39.5 MB 8.2 MB/s eta 0:00:05\n",
      "   --- ------------------------------------ 3.5/39.5 MB 8.5 MB/s eta 0:00:05\n",
      "   ---- ----------------------------------- 4.0/39.5 MB 8.7 MB/s eta 0:00:05\n",
      "   ---- ----------------------------------- 4.4/39.5 MB 8.9 MB/s eta 0:00:04\n",
      "   ----- ---------------------------------- 5.0/39.5 MB 9.2 MB/s eta 0:00:04\n",
      "   ----- ---------------------------------- 5.5/39.5 MB 9.3 MB/s eta 0:00:04\n",
      "   ------ --------------------------------- 6.1/39.5 MB 9.5 MB/s eta 0:00:04\n",
      "   ------ --------------------------------- 6.5/39.5 MB 9.4 MB/s eta 0:00:04\n",
      "   ------- -------------------------------- 7.0/39.5 MB 9.6 MB/s eta 0:00:04\n",
      "   ------- -------------------------------- 7.6/39.5 MB 9.7 MB/s eta 0:00:04\n",
      "   ------- -------------------------------- 7.8/39.5 MB 9.8 MB/s eta 0:00:04\n",
      "   -------- ------------------------------- 8.7/39.5 MB 9.9 MB/s eta 0:00:04\n",
      "   --------- ------------------------------ 9.3/39.5 MB 10.1 MB/s eta 0:00:04\n",
      "   --------- ------------------------------ 9.8/39.5 MB 10.1 MB/s eta 0:00:03\n",
      "   ---------- ----------------------------- 10.4/39.5 MB 10.9 MB/s eta 0:00:03\n",
      "   ----------- ---------------------------- 10.9/39.5 MB 11.3 MB/s eta 0:00:03\n",
      "   ----------- ---------------------------- 11.5/39.5 MB 11.5 MB/s eta 0:00:03\n",
      "   ------------ --------------------------- 12.0/39.5 MB 11.3 MB/s eta 0:00:03\n",
      "   ------------ --------------------------- 12.6/39.5 MB 11.7 MB/s eta 0:00:03\n",
      "   ------------- -------------------------- 13.1/39.5 MB 11.3 MB/s eta 0:00:03\n",
      "   ------------- -------------------------- 13.6/39.5 MB 11.3 MB/s eta 0:00:03\n",
      "   -------------- ------------------------- 14.2/39.5 MB 11.3 MB/s eta 0:00:03\n",
      "   -------------- ------------------------- 14.7/39.5 MB 11.5 MB/s eta 0:00:03\n",
      "   --------------- ------------------------ 15.3/39.5 MB 11.5 MB/s eta 0:00:03\n",
      "   ---------------- ----------------------- 15.8/39.5 MB 11.5 MB/s eta 0:00:03\n",
      "   ---------------- ----------------------- 16.3/39.5 MB 11.7 MB/s eta 0:00:02\n",
      "   ----------------- ---------------------- 16.9/39.5 MB 11.7 MB/s eta 0:00:02\n",
      "   ----------------- ---------------------- 17.4/39.5 MB 11.9 MB/s eta 0:00:02\n",
      "   ------------------ --------------------- 18.0/39.5 MB 11.9 MB/s eta 0:00:02\n",
      "   ------------------ --------------------- 18.4/39.5 MB 11.5 MB/s eta 0:00:02\n",
      "   ------------------- -------------------- 18.9/39.5 MB 11.5 MB/s eta 0:00:02\n",
      "   ------------------- -------------------- 19.5/39.5 MB 11.7 MB/s eta 0:00:02\n",
      "   -------------------- ------------------- 20.0/39.5 MB 11.5 MB/s eta 0:00:02\n",
      "   -------------------- ------------------- 20.6/39.5 MB 11.5 MB/s eta 0:00:02\n",
      "   --------------------- ------------------ 21.1/39.5 MB 11.5 MB/s eta 0:00:02\n",
      "   --------------------- ------------------ 21.7/39.5 MB 11.7 MB/s eta 0:00:02\n",
      "   ---------------------- ----------------- 22.2/39.5 MB 11.7 MB/s eta 0:00:02\n",
      "   ----------------------- ---------------- 22.8/39.5 MB 11.5 MB/s eta 0:00:02\n",
      "   ----------------------- ---------------- 23.3/39.5 MB 11.7 MB/s eta 0:00:02\n",
      "   ------------------------ --------------- 23.9/39.5 MB 11.5 MB/s eta 0:00:02\n",
      "   ------------------------ --------------- 24.4/39.5 MB 11.7 MB/s eta 0:00:02\n",
      "   ------------------------- -------------- 24.9/39.5 MB 11.7 MB/s eta 0:00:02\n",
      "   ------------------------- -------------- 25.5/39.5 MB 11.7 MB/s eta 0:00:02\n",
      "   -------------------------- ------------- 25.9/39.5 MB 11.3 MB/s eta 0:00:02\n",
      "   -------------------------- ------------- 26.4/39.5 MB 11.3 MB/s eta 0:00:02\n",
      "   --------------------------- ------------ 27.0/39.5 MB 11.5 MB/s eta 0:00:02\n",
      "   --------------------------- ------------ 27.5/39.5 MB 11.5 MB/s eta 0:00:02\n",
      "   ---------------------------- ----------- 28.1/39.5 MB 11.5 MB/s eta 0:00:01\n",
      "   ----------------------------- ---------- 28.6/39.5 MB 11.7 MB/s eta 0:00:01\n",
      "   ----------------------------- ---------- 29.2/39.5 MB 11.5 MB/s eta 0:00:01\n",
      "   ------------------------------ --------- 29.7/39.5 MB 11.5 MB/s eta 0:00:01\n",
      "   ------------------------------ --------- 30.3/39.5 MB 11.7 MB/s eta 0:00:01\n",
      "   ------------------------------- -------- 30.8/39.5 MB 11.5 MB/s eta 0:00:01\n",
      "   ------------------------------- -------- 31.4/39.5 MB 11.7 MB/s eta 0:00:01\n",
      "   -------------------------------- ------- 31.9/39.5 MB 11.5 MB/s eta 0:00:01\n",
      "   -------------------------------- ------- 32.4/39.5 MB 11.3 MB/s eta 0:00:01\n",
      "   --------------------------------- ------ 32.9/39.5 MB 11.3 MB/s eta 0:00:01\n",
      "   --------------------------------- ------ 33.5/39.5 MB 11.3 MB/s eta 0:00:01\n",
      "   ---------------------------------- ----- 34.0/39.5 MB 11.5 MB/s eta 0:00:01\n",
      "   ---------------------------------- ----- 34.4/39.5 MB 11.5 MB/s eta 0:00:01\n",
      "   ----------------------------------- ---- 34.9/39.5 MB 11.3 MB/s eta 0:00:01\n",
      "   ----------------------------------- ---- 35.5/39.5 MB 11.3 MB/s eta 0:00:01\n",
      "   ------------------------------------ --- 36.0/39.5 MB 11.5 MB/s eta 0:00:01\n",
      "   ------------------------------------- -- 36.6/39.5 MB 11.5 MB/s eta 0:00:01\n",
      "   ------------------------------------- -- 37.1/39.5 MB 11.5 MB/s eta 0:00:01\n",
      "   -------------------------------------- - 37.6/39.5 MB 11.5 MB/s eta 0:00:01\n",
      "   -------------------------------------- - 38.1/39.5 MB 11.3 MB/s eta 0:00:01\n",
      "   ---------------------------------------  38.6/39.5 MB 11.3 MB/s eta 0:00:01\n",
      "   ---------------------------------------  39.2/39.5 MB 11.3 MB/s eta 0:00:01\n",
      "   ---------------------------------------  39.5/39.5 MB 11.3 MB/s eta 0:00:01\n",
      "   ---------------------------------------  39.5/39.5 MB 11.3 MB/s eta 0:00:01\n",
      "   ---------------------------------------- 39.5/39.5 MB 10.2 MB/s eta 0:00:00\n",
      "Installing collected packages: opencv-python\n",
      "Successfully installed opencv-python-4.11.0.86\n",
      "Note: you may need to restart the kernel to use updated packages.\n"
     ]
    }
   ],
   "source": [
    "pip install opencv-python\n",
    "\n",
    "#installing open cv"
   ]
  },
  {
   "cell_type": "code",
   "execution_count": 3,
   "id": "77a9ad15",
   "metadata": {
    "scrolled": true
   },
   "outputs": [
    {
     "name": "stdout",
     "output_type": "stream",
     "text": [
      "4.11.0\n"
     ]
    }
   ],
   "source": [
    "import cv2\n",
    "print(cv2.__version__)  # Outputs the installed OpenCV version\n",
    "#chechking open cv installed or not "
   ]
  },
  {
   "cell_type": "code",
   "execution_count": 183,
   "id": "b5390485",
   "metadata": {},
   "outputs": [],
   "source": [
    "\n",
    "from PIL import Image\n",
    "image_path=r\"C:\\Users\\binya\\OneDrive\\Desktop\\oakso_split2.jpeg\"\n",
    "image=cv2.imread(image_path)\n",
    "# converting image  from bgr to rgb\n",
    "image_rgb = cv2.cvtColor(image, cv2.COLOR_BGR2RGB)\n",
    "# img1=Image.fromarray(image_rgb)\n",
    "# img1.show();\n",
    "#from pillow uses image properties and accessing them in the form of pil array"
   ]
  },
  {
   "cell_type": "code",
   "execution_count": 196,
   "id": "cc7911e6",
   "metadata": {},
   "outputs": [],
   "source": [
    "#preprocessing the image using gray scaling and troubleshooting for binary changes \n",
    "grayscale_image = cv2.cvtColor(image_rgb, cv2.COLOR_RGB2GRAY)\n",
    "\n",
    "# Apply thresholding converted to black background for more contrast\n",
    "_, binary_image = cv2.threshold(grayscale_image, 150, 255, cv2.THRESH_BINARY_INV) #cv2.THRESH_OTSU\n",
    "#adaptive threshold \n",
    "#binary_image = cv2.adaptiveThreshold(grayscale_image, 255, cv2.ADAPTIVE_THRESH_GAUSSIAN_C,\n",
    "                                    # cv2.THRESH_BINARY, 31, 15)\n",
    "\n",
    "binary_image = cv2.medianBlur(binary_image, 3)\n",
    "# img=Image.fromarray(binary_image)\n",
    "# img.show();\n"
   ]
  },
  {
   "cell_type": "code",
   "execution_count": 197,
   "id": "a00f29c6",
   "metadata": {},
   "outputs": [],
   "source": [
    "# Use Morphological Closing to Fill Gaps in Handwriting so we can look on incomplete letter\n",
    "kernel = np.ones((2, 2), np.uint8)  # Adjust kernel size based on how much filling is needed\n",
    "binary_image = cv2.morphologyEx(binary_image, cv2.MORPH_CLOSE, kernel, iterations=1)\n",
    "# Noise removal (reduces background noise)\n",
    "binary_image = cv2.fastNlMeansDenoising(binary_image, h=30)\n",
    "#  apply dilation to make text thicker if required but it may  \n",
    "#it may also result to text submerge if kernel matrx size is increased\n",
    "#binary_image = cv2.dilate(binary_image, kernel, iterations=1)\n",
    "# img=Image.fromarray(binary_image)\n",
    "# img.show();"
   ]
  },
  {
   "cell_type": "code",
   "execution_count": 198,
   "id": "68df7e3f",
   "metadata": {},
   "outputs": [],
   "source": [
    "#for increasing the resolution of an iumage  and denoising them if needed\n",
    "# using resize \n",
    "#high resolution image is easy to be extracted \n",
    "scale=2\n",
    "high_img=cv2.resize(binary_image,None,\n",
    "                   fx=scale,fy=scale,\n",
    "                   interpolation=cv2.INTER_CUBIC)\n",
    "img=Image.fromarray(high_img)\n",
    "img.show();\n"
   ]
  },
  {
   "cell_type": "code",
   "execution_count": 199,
   "id": "dd4d9c73",
   "metadata": {},
   "outputs": [
    {
     "name": "stdout",
     "output_type": "stream",
     "text": [
      "Extracted Text:\n",
      "Date : MA Initials :\n",
      "INJECTION : YES NO Exercise Therapy : YES NO\n",
      "Functional Assessment Questionnaire\n",
      "\n",
      "_ = - e- <“« 7 “2. { / / ‘\n",
      "Patient Name: 2 ¥oc8 of Ae DOB: «. /;\n",
      "\n",
      "Rate on a scale from 0-5 (5 being the highest) how difficult it is to do the following tasks:\n",
      "Bending or Stooping: 01 2 348\n",
      "\n",
      "Putting on shoes:012345\n",
      "Sleeping:012345\n",
      "\n",
      "Standing for an hour: 012.345\n",
      "\n",
      "Going up or down a flight of stairs: 0 12 345\n",
      "Walking through a store: 0123.4:5\n",
      "\n",
      "Driving for an hour: 0 123 45:\n",
      "\n",
      "Preparing a meal: 01 23 45\n",
      "\n",
      "Yard work: 01 2 3.45\n",
      "\n",
      "Picking up items off the floor: 0 1.2345\n",
      "\n",
      "Patient Changes since last treatment:\n",
      "\n",
      ".\n",
      "\n",
      "‘ > * ’ - .\n",
      "\n",
      "Vb na oy sek\n",
      "\n",
      "vas os ry ¢ =~ *, “y ¢ ar 7\n",
      "Vv SPs. Owes\n",
      "\n",
      "na ts: tic ag Tas\n",
      "\n",
      "ec\n",
      "\n",
      "Patient changes since the start of treatment:\n",
      "\n",
      "Describe any functighal changes within the last three days (good or bad):\n",
      "\n",
      "io\n",
      "f:\n",
      "\n",
      "Rate pain symptoms on a scale of 0-10 (10 being the highest):\n",
      "Pain: __ ge Numbness: _ 5 _ Tingling: < Burning: _=\"_Tightness: a\n",
      "\n",
      "exempts AO ee\n",
      "\n"
     ]
    }
   ],
   "source": [
    "#now extracting text from it ocr technologies\n",
    "#here using pytesseract technologies to Extract the text \n",
    "#observation is done that it works well on Printed text but fails in handwritten\n",
    "#it also show good permomance in recognising submerge text\n",
    "import pytesseract\n",
    "pytesseract.pytesseract.tesseract_cmd = r\"C:\\Program Files\\Tesseract-OCR\\tesseract.exe\"\n",
    "#img1=Image.open(binary_image) # image.open cannot read from num py array type \n",
    "img1=Image.fromarray(high_img)# so image numpy array\n",
    "text=pytesseract.image_to_string(img1)\n",
    "print(\"Extracted Text:\")\n",
    "print(text)"
   ]
  },
  {
   "cell_type": "code",
   "execution_count": 200,
   "id": "6cd9936a",
   "metadata": {},
   "outputs": [
    {
     "name": "stdout",
     "output_type": "stream",
     "text": [
      "C:\\ProgramData\\anaconda3\\python.exe\n",
      "pip 23.2.1 from C:\\ProgramData\\anaconda3\\Lib\\site-packages\\pip (python 3.11)\n",
      "\n"
     ]
    }
   ],
   "source": [
    "import sys\n",
    "print(sys.executable)\n",
    "!pip --version\n",
    "#chechking the system environment and correcting it \n",
    "#due to default environment setup module is not installed in this environment "
   ]
  },
  {
   "cell_type": "code",
   "execution_count": 201,
   "id": "487dffc8",
   "metadata": {
    "scrolled": true
   },
   "outputs": [
    {
     "name": "stderr",
     "output_type": "stream",
     "text": [
      "Neither CUDA nor MPS are available - defaulting to CPU. Note: This module is much faster with a GPU.\n"
     ]
    },
    {
     "name": "stdout",
     "output_type": "stream",
     "text": [
      "Extracted Text:\n",
      "Date\n",
      "MA Initials\n",
      "INJECTION\n",
      "YES\n",
      "NO\n",
      "Exercise Therapy\n",
      "YES NO\n",
      "Functional Assessment Questionnaire\n",
      "Patient Name\n",
      "DOB\n",
      "Rate on a scale from 0-5 (5 being the highest) how difficult it is to do the following tasks:\n",
      "Bending or Stooping: 0 1 2345\n",
      "Putting on shoes: 0 1 234 5\n",
      "Sleeping: 0 1 234 5\n",
      "Standing for an hour: 01234 5\n",
      "Going up or down a flight of stairs: 0 1234 5\n",
      "Walking through a store: 0 1 234,5\n",
      "Driving for an hour: 0 1 234.5\n",
      "Preparing a meal: 0 1 234 5\n",
      "Yard work: 0 1 234,5\n",
      "Picking up items off the floor: 0 1.234 5\n",
      "Patient Changes since last treatment:\n",
      "Patient changes since the start of treatment:\n",
      "Describe any functiohal changes within the last three days (good or bad):\n",
      "Rate\n",
      "symptoms on a scale of 0-10 (10 being the highest):\n",
      "Pain:\n",
      "Numbness:\n",
      "Tingling:\n",
      "Burning:\n",
      "Tightness:\n",
      "*IoBe Completed by M4:\n",
      "Blood Pressue: _\n",
      "HR: _ _Weight\n",
      "Height\n",
      "pain\n"
     ]
    }
   ],
   "source": [
    "#OCR technolgies easy ocr is used which performs well with handwritten text \n",
    "#it fails to recognize slight submerge image\n",
    "import easyocr\n",
    "import numpy as np\n",
    "#using easyocr for handwritten text \n",
    "# Initialize the EasyOCR reader\n",
    "reader = easyocr.Reader(['en','fr'],detector=True, recognizer=True)  # en for English\n",
    "#takes numpy array as input\n",
    "img_np = np.array(img)\n",
    "results = reader.readtext(img_np)\n",
    "#seperating as result is in tuple format \n",
    "text = \"\\n\".join([res[1] for res in results])\n",
    "print(\"Extracted Text:\")\n",
    "print(text)"
   ]
  },
  {
   "cell_type": "code",
   "execution_count": 173,
   "id": "77465193",
   "metadata": {},
   "outputs": [
    {
     "name": "stdout",
     "output_type": "stream",
     "text": [
      "C:\\ProgramData\\anaconda3\\python.exe\n"
     ]
    }
   ],
   "source": [
    "\n",
    "import sys\n",
    "import re\n",
    "import json\n",
    "print(sys.executable)\n"
   ]
  },
  {
   "cell_type": "code",
   "execution_count": 174,
   "id": "00c6a0a0",
   "metadata": {},
   "outputs": [],
   "source": [
    "# Define regex patterns for each field \n",
    "#to extract certain keywords as required\n",
    "#pattern made using ai\n",
    "patterns = {\n",
    "    \"patient_name\": r\"Patient Name : (.+)\",\n",
    "    \"dob\": r\"DOB: (.+)\",\n",
    "    \"injection\": r\"INJECTION : (YES|NO)\",\n",
    "    \"exercise_therapy\": r\"Exercise Therapy : (YES|NO)\",\n",
    "    \"bending\": r\"Bending or Stooping:(\\d)\",\n",
    "    \"putting_on_shoes\": r\"Putting on shoes:(\\d)\",\n",
    "    \"sleeping\": r\"Sleeping:(\\d)\",\n",
    "    \"pain\": r\"Pain: (\\d+)\",\n",
    "    \"numbness\": r\"Numbness: (\\d+)\",\n",
    "    \"tingling\": r\"Tingling: (\\d+)\",\n",
    "    \"burning\": r\"Burning: (\\d+)\",\n",
    "    \"tightness\": r\"Tightness: (\\d+)\",\n",
    "    \"blood_pressure\": r\"Blood Pressure: (.+)\",\n",
    "    \"hr\": r\"HR: (\\d+)\",\n",
    "    \"weight\": r\"Weight: (\\d+)\",\n",
    "    \"height\": r\"Height: (.+)\",\n",
    "    \"spo2\": r\"SpO2: (\\d+)\",\n",
    "    \"temperature\": r\"Temperature: (.+)\",\n",
    "    \"blood_glucose\": r\"Blood Glucose: (\\d+)\",\n",
    "    \"respirations\": r\"Respirations: (\\d+)\",\n",
    "    \"since_last_treatment\": r\"Patient Changes since last treatment: (.+)\",\n",
    "    \"since_start_of_treatment\": r\"Patient changes since the start of treatment: (.+)\",\n",
    "    \"last_3_days\": r\"Describe any functional changes within the last three days \\(good or bad\\): (.+)\"\n",
    "}"
   ]
  },
  {
   "cell_type": "code",
   "execution_count": 175,
   "id": "98158c04",
   "metadata": {},
   "outputs": [],
   "source": [
    "#to get the extracted text and uses regesx tio find specific patterns\n",
    "#storing it into dictionary if match\n",
    "def extract_data(text, patterns):\n",
    "    extracted_data = {}\n",
    "    for key, pattern in patterns.items():\n",
    "        match = re.search(pattern, text)\n",
    "        if match:\n",
    "            extracted_data[key] = match.group(1).strip()\n",
    "    return extracted_data\n",
    "\n",
    "# Example usage\n",
    "extracted_data = extract_data(text, patterns)"
   ]
  },
  {
   "cell_type": "code",
   "execution_count": 176,
   "id": "0cfbbe76",
   "metadata": {},
   "outputs": [],
   "source": [
    "#structured the text into organizeddictionary as asked  and handles the values using .get()\n",
    "#if value not found then i set it to certain default values \n",
    "def organize_data(extracted_data):\n",
    "    organized_data = {\n",
    "        \"patient_name\": extracted_data.get(\"patient_name\"),\n",
    "        \"dob\": extracted_data.get(\"dob\"),\n",
    "        \"injection\": extracted_data.get(\"injection\"),\n",
    "        \"exercise_therapy\": extracted_data.get(\"exercise_therapy\"),\n",
    "        \"difficulty_ratings\": {\n",
    "            \"bending\": int(extracted_data.get(\"bending\", 0)),\n",
    "            \"putting_on_shoes\": int(extracted_data.get(\"putting_on_shoes\", 0)),\n",
    "            \"sleeping\": int(extracted_data.get(\"sleeping\", 0))\n",
    "        },\n",
    "        \"pain_symptoms\": {\n",
    "            \"pain\": int(extracted_data.get(\"pain\", 0)),\n",
    "            \"numbness\": int(extracted_data.get(\"numbness\", 0)),\n",
    "            \"tingling\": int(extracted_data.get(\"tingling\", 0)),\n",
    "            \"burning\": int(extracted_data.get(\"burning\", 0)),\n",
    "            \"tightness\": int(extracted_data.get(\"tightness\", 0))\n",
    "        },\n",
    "        \"patient_changes\": {\n",
    "            \"since_last_treatment\": extracted_data.get(\"since_last_treatment\"),\n",
    "            \"since_start_of_treatment\": extracted_data.get(\"since_start_of_treatment\"),\n",
    "            \"last_3_days\": extracted_data.get(\"last_3_days\")\n",
    "        },\n",
    "        \"medical_assistant_data\": {\n",
    "            \"blood_pressure\": extracted_data.get(\"blood_pressure\"),\n",
    "            \"hr\": int(extracted_data.get(\"hr\", 0)),\n",
    "            \"weight\": int(extracted_data.get(\"weight\", 0)),\n",
    "            \"height\": extracted_data.get(\"height\"),\n",
    "            \"spo2\": int(extracted_data.get(\"spo2\", 0)),\n",
    "            \"temperature\": extracted_data.get(\"temperature\"),\n",
    "            \"blood_glucose\": int(extracted_data.get(\"blood_glucose\", 0)),\n",
    "            \"respirations\": int(extracted_data.get(\"respirations\", 0))\n",
    "        }\n",
    "    }\n",
    "    return organized_data\n",
    "\n",
    "organized_data = organize_data(extracted_data)"
   ]
  },
  {
   "cell_type": "code",
   "execution_count": 202,
   "id": "b31bc194",
   "metadata": {},
   "outputs": [
    {
     "name": "stdout",
     "output_type": "stream",
     "text": [
      "{\n",
      "    \"patient_name\": null,\n",
      "    \"dob\": null,\n",
      "    \"injection\": \"YES\",\n",
      "    \"exercise_therapy\": \"YES\",\n",
      "    \"difficulty_ratings\": {\n",
      "        \"bending\": 0,\n",
      "        \"putting_on_shoes\": 0,\n",
      "        \"sleeping\": 0\n",
      "    },\n",
      "    \"pain_symptoms\": {\n",
      "        \"pain\": 2,\n",
      "        \"numbness\": 0,\n",
      "        \"tingling\": 6,\n",
      "        \"burning\": 0,\n",
      "        \"tightness\": 0\n",
      "    },\n",
      "    \"patient_changes\": {\n",
      "        \"since_last_treatment\": null,\n",
      "        \"since_start_of_treatment\": null,\n",
      "        \"last_3_days\": null\n",
      "    },\n",
      "    \"medical_assistant_data\": {\n",
      "        \"blood_pressure\": null,\n",
      "        \"hr\": 0,\n",
      "        \"weight\": 0,\n",
      "        \"height\": null,\n",
      "        \"spo2\": 0,\n",
      "        \"temperature\": null,\n",
      "        \"blood_glucose\": 0,\n",
      "        \"respirations\": 0\n",
      "    }\n",
      "}\n"
     ]
    }
   ],
   "source": [
    "#organized data is in dictionary format \n",
    "#formts the final output in JSON format as asked and printed the output\n",
    "form_data = json.dumps(organized_data, indent=4)\n",
    "print(form_data)"
   ]
  },
  {
   "cell_type": "code",
   "execution_count": 204,
   "id": "16b18e3c",
   "metadata": {},
   "outputs": [
    {
     "name": "stdout",
     "output_type": "stream",
     "text": [
      "Sucess\n"
     ]
    }
   ],
   "source": [
    "#saving Json data \n",
    "with open(\"form_data.json\", \"w\") as json_file:\n",
    "    json_file.write(form_data)\n",
    "print(\"Sucess\")"
   ]
  },
  {
   "cell_type": "code",
   "execution_count": null,
   "id": "c0d6bab6",
   "metadata": {},
   "outputs": [],
   "source": []
  },
  {
   "cell_type": "code",
   "execution_count": null,
   "id": "5683b20b",
   "metadata": {},
   "outputs": [],
   "source": []
  },
  {
   "cell_type": "code",
   "execution_count": null,
   "id": "783843b6",
   "metadata": {},
   "outputs": [],
   "source": []
  },
  {
   "cell_type": "code",
   "execution_count": null,
   "id": "b36f4ca9",
   "metadata": {},
   "outputs": [],
   "source": []
  }
 ],
 "metadata": {
  "kernelspec": {
   "display_name": "Python 3 (ipykernel)",
   "language": "python",
   "name": "python3"
  },
  "language_info": {
   "codemirror_mode": {
    "name": "ipython",
    "version": 3
   },
   "file_extension": ".py",
   "mimetype": "text/x-python",
   "name": "python",
   "nbconvert_exporter": "python",
   "pygments_lexer": "ipython3",
   "version": "3.11.5"
  }
 },
 "nbformat": 4,
 "nbformat_minor": 5
}
